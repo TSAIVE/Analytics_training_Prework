{
 "cells": [
  {
   "cell_type": "markdown",
   "metadata": {},
   "source": [
    "## LIST MANIPULATION IN PYTHON"
   ]
  },
  {
   "cell_type": "markdown",
   "metadata": {},
   "source": [
    "## A. match_ends"
   ]
  },
  {
   "cell_type": "markdown",
   "metadata": {},
   "source": [
    "Given a list of strings, return the count of the number of strings where the string length is 2 or more and the first and last chars of the string are the same.\n",
    "\n",
    "Note: python does not have a ++ operator, but += works."
   ]
  },
  {
   "cell_type": "code",
   "execution_count": 6,
   "metadata": {
    "collapsed": false
   },
   "outputs": [],
   "source": [
    "my_list_of_strings = ['mix', 'xyx', 'ae', 'u', 'kaardvark']\n",
    "def match_ends(words):\n",
    "    count = 0\n",
    "    for word in words:\n",
    "        if len(word) >= 2 and word[0] == word[-1]:\n",
    "            count += 1  # Similar to count = count+1\n",
    "    return count\n",
    "match_ends(my_list_of_strings)"
   ]
  },
  {
   "cell_type": "markdown",
   "metadata": {},
   "source": [
    "## B. front_x"
   ]
  },
  {
   "cell_type": "markdown",
   "metadata": {},
   "source": [
    "Given a list of strings, return a list with the strings in sorted order, except group all the strings that begin with 'x' first.\n",
    "\n",
    "e.g. ['mix', 'xyz', 'apple', 'xanadu', 'aardvark'] yields\n",
    "['xanadu', 'xyz', 'aardvark', 'apple', 'mix']\n",
    "\n",
    "Hint: this can be done by making 2 lists and sorting each of them before combining them."
   ]
  },
  {
   "cell_type": "code",
   "execution_count": null,
   "metadata": {
    "collapsed": true
   },
   "outputs": [],
   "source": [
    "my_list_of_strings = ['mix', 'xyz', 'apple', 'xanadu', 'aardvark']\n",
    "def front_x(words):\n",
    "        list_1=[]\n",
    "        list_x=[]\n",
    "        for word in words:\n",
    "            if word[0]=='x':\n",
    "                list_x.append(word)\n",
    "            else:\n",
    "                list_1.append(word)\n",
    "        sorted_list_of_string=sorted(list_x)+sorted(list_1)\n",
    "        return sorted_list_of_string\n",
    "front_x(my_list_of_strings)"
   ]
  },
  {
   "cell_type": "markdown",
   "metadata": {},
   "source": [
    "## C. sort_last"
   ]
  },
  {
   "cell_type": "markdown",
   "metadata": {},
   "source": [
    "Given a list of non-empty tuples, return a list sorted in increasing order by the last element in each tuple.\n",
    "\n",
    "e.g. [(1, 7), (1, 3), (3, 4, 5), (2, 2)] yields\n",
    "[(2, 2), (1, 3), (3, 4, 5), (1, 7)]\n",
    "\n",
    "Hint: use a custom key= function to extract the last element form each tuple."
   ]
  },
  {
   "cell_type": "code",
   "execution_count": 7,
   "metadata": {
    "collapsed": true
   },
   "outputs": [],
   "source": [
    "my_list=[(1, 7), (1, 3), (3, 4, 5), (2, 2)]\n",
    "def sort_last(tuples):        \n",
    "    return sorted(tuples, key=lambda numbers_tuple: numbers_tuple[-1])\n",
    "sort_last(my_list)\n"
   ]
  },
  {
   "cell_type": "markdown",
   "metadata": {},
   "source": [
    "Simple provided test() function used in main() to print what each function returns vs. what it's supposed to return."
   ]
  },
  {
   "cell_type": "code",
   "execution_count": null,
   "metadata": {
    "collapsed": true
   },
   "outputs": [],
   "source": [
    "def test(got, expected):\n",
    "    prefix = 'OK' if got == expected else ' X'\n",
    "    # !r prints a Python representation of the strings (complete with quotes)\n",
    "    print ' {} got: {!r} expected: {!r}'.format(prefix, got, expected)"
   ]
  },
  {
   "cell_type": "markdown",
   "metadata": {},
   "source": [
    "Calls the above functions with interesting inputs."
   ]
  },
  {
   "cell_type": "code",
   "execution_count": null,
   "metadata": {
    "collapsed": true
   },
   "outputs": [],
   "source": [
    "def main():\n",
    "    print 'match_ends'\n",
    "    test(match_ends(['aba', 'xyz', 'aa', 'x', 'bbb']), 3)\n",
    "    test(match_ends(['', 'x', 'xy', 'xyx', 'xx']), 2)\n",
    "    test(match_ends(['aaa', 'be', 'abc', 'hello']), 1)\n",
    "\n",
    "    print\n",
    "    print 'front_x'\n",
    "    test(front_x(['bbb', 'ccc', 'axx', 'xzz', 'xaa']),\n",
    "        ['xaa', 'xzz', 'axx', 'bbb', 'ccc'])\n",
    "    test(front_x(['ccc', 'bbb', 'aaa', 'xcc', 'xaa']),\n",
    "        ['xaa', 'xcc', 'aaa', 'bbb', 'ccc'])\n",
    "    test(front_x(['mix', 'xyz', 'apple', 'xanadu', 'aardvark']),\n",
    "        ['xanadu', 'xyz', 'aardvark', 'apple', 'mix'])\n",
    "    \n",
    "    print\n",
    "    print 'sort_last'\n",
    "    test(sort_last([(1, 3), (3, 2), (2, 1)]),\n",
    "         [(2, 1), (3, 2), (1, 3)])\n",
    "    test(sort_last([(2, 3), (1, 2), (3, 1)]),\n",
    "         [(3, 1), (1, 2), (2, 3)])\n",
    "    test(sort_last([(1, 7), (1, 3), (3, 4, 5), (2, 2)]),\n",
    "         [(2, 2), (1, 3), (3, 4, 5), (1, 7)])"
   ]
  },
  {
   "cell_type": "markdown",
   "metadata": {},
   "source": [
    "We call the main function."
   ]
  },
  {
   "cell_type": "code",
   "execution_count": null,
   "metadata": {
    "collapsed": true
   },
   "outputs": [],
   "source": [
    "main()"
   ]
  },
  {
   "cell_type": "markdown",
   "metadata": {},
   "source": [
    "## D. remove_adjacent"
   ]
  },
  {
   "cell_type": "markdown",
   "metadata": {},
   "source": [
    "Given a list of numbers, return a list where all adjacent == elements have been reduced to a single element, so [1, 2, 2, 3] returns [1, 2, 3]. You may create a new list or modify the passed in list."
   ]
  },
  {
   "cell_type": "code",
   "execution_count": 1,
   "metadata": {
    "collapsed": false
   },
   "outputs": [],
   "source": [
    "''' INITIAL PROPOSAL\n",
    "list_of_nb = [1,2,4,7,7,8,7,7,6,6,6,1,4,7,8,6,6,4]\n",
    "def remove_adjacent(nums):\n",
    "    reduced_list=[]\n",
    "    for n in nums:\n",
    "        if len(reduced_list)!=0:\n",
    "            if n != reduced_list[-1]:\n",
    "                reduced_list.append(n)\n",
    "        else:\n",
    "            reduced_list.append(n)\n",
    "    return reduced_list\n",
    "remove_adjacent(list_of_nb)\n",
    "'''\n",
    "# CORRECTION (same results)\n",
    "list_of_nb = [1,2,4,7,7,8,7,7,6,6,6,1,4,7,8,6,6,4]\n",
    "def remove_adjacent(nums):\n",
    "    result = []\n",
    "    for num in nums:\n",
    "        if len(result) == 0 or num != result[-1]:\n",
    "            result.append(num)\n",
    "    return result\n",
    "remove_adjacent(list_of_nb)"
   ]
  },
  {
   "cell_type": "markdown",
   "metadata": {},
   "source": [
    "## E. linear_merge"
   ]
  },
  {
   "cell_type": "markdown",
   "metadata": {},
   "source": [
    "Given two lists sorted in increasing order, create and return a merged list of all the elements in sorted order. You may modify the passed in lists. Ideally, the solution should work in \"linear\" time, making a single pass of both lists."
   ]
  },
  {
   "cell_type": "code",
   "execution_count": null,
   "metadata": {
    "collapsed": true
   },
   "outputs": [],
   "source": [
    "my_list1=[3,5,8,9]\n",
    "my_list2=[1,5,6,14]\n",
    "'''INITIAL PROPOSAL\n",
    "def linear_merge(list1, list2):\n",
    "    merged_list=[]\n",
    "    for num in list1:\n",
    "        merged_list.append(num)\n",
    "    for num in list2:\n",
    "        merged_list.append(num)\n",
    "    return sorted(merged_list)\n",
    "'''\n",
    "# CORRECTION (same result)\n",
    "def linear_merge(list1, list2):\n",
    "    result = []\n",
    "    # Look at the two lists so long as both are non-empty.\n",
    "    # Take whichever element [0] is smaller.\n",
    "    while list1 and list2:  # Keep looping while both list are non-empty; equivalent to len(list1) != 0 and ...\n",
    "        if list1[0] < list2[0]:\n",
    "            result.append(list1.pop(0))\n",
    "        else:\n",
    "            result.append(list2.pop(0))\n",
    "\n",
    "    # Now tack on what's left\n",
    "    result.extend(list1)\n",
    "    result.extend(list2)\n",
    "    return result\n",
    "linear_merge(my_list1,my_list2)"
   ]
  },
  {
   "cell_type": "markdown",
   "metadata": {},
   "source": [
    "Calls the above functions with interesting inputs."
   ]
  },
  {
   "cell_type": "code",
   "execution_count": null,
   "metadata": {
    "collapsed": true
   },
   "outputs": [],
   "source": [
    "def main():\n",
    "    print 'remove_adjacent'\n",
    "    test(remove_adjacent([1, 2, 2, 3]), [1, 2, 3])\n",
    "    test(remove_adjacent([2, 2, 3, 3, 3]), [2, 3])\n",
    "    test(remove_adjacent([]), [])\n",
    "\n",
    "    print\n",
    "    print 'linear_merge'\n",
    "    test(linear_merge(['aa', 'xx', 'zz'], ['bb', 'cc']),\n",
    "        ['aa', 'bb', 'cc', 'xx', 'zz'])\n",
    "    test(linear_merge(['aa', 'xx'], ['bb', 'cc', 'zz']),\n",
    "        ['aa', 'bb', 'cc', 'xx', 'zz'])\n",
    "    test(linear_merge(['aa', 'aa'], ['aa', 'bb', 'bb']),\n",
    "        ['aa', 'aa', 'aa', 'bb', 'bb'])"
   ]
  },
  {
   "cell_type": "markdown",
   "metadata": {
    "collapsed": true
   },
   "source": [
    "We call the main function."
   ]
  },
  {
   "cell_type": "code",
   "execution_count": null,
   "metadata": {
    "collapsed": true
   },
   "outputs": [],
   "source": [
    "main()"
   ]
  }
 ],
 "metadata": {
  "anaconda-cloud": {},
  "kernelspec": {
   "display_name": "Python [Root]",
   "language": "python",
   "name": "Python [Root]"
  },
  "language_info": {
   "codemirror_mode": {
    "name": "ipython",
    "version": 2
   },
   "file_extension": ".py",
   "mimetype": "text/x-python",
   "name": "python",
   "nbconvert_exporter": "python",
   "pygments_lexer": "ipython2",
   "version": "2.7.12"
  }
 },
 "nbformat": 4,
 "nbformat_minor": 0
}
